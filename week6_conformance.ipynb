{
  "cells": [
    {
      "cell_type": "markdown",
      "metadata": {
        "id": "view-in-github",
        "colab_type": "text"
      },
      "source": [
        "<a href=\"https://colab.research.google.com/github/MinsuChoKW/Data-Analytics-2025/blob/main/week6_conformance.ipynb\" target=\"_parent\"><img src=\"https://colab.research.google.com/assets/colab-badge.svg\" alt=\"Open In Colab\"/></a>"
      ]
    },
    {
      "cell_type": "markdown",
      "metadata": {
        "id": "gCUzKKQOvg51"
      },
      "source": [
        "# 📘 Week 6 - 적합도 평가 (Conformance Checking) (PM4Py)\n",
        "- 실습 항목: Alignment 기반 적합도 평가"
      ]
    },
    {
      "cell_type": "code",
      "source": [
        "# ✅ 환경 점검: PM4Py 버전 확인 (필요 시 설치)\n",
        "try:\n",
        "    import pm4py\n",
        "    print(\"pm4py version:\", pm4py.__version__)\n",
        "except Exception as e:\n",
        "    print(\"pm4py가 설치되어 있지 않거나 환경 문제가 있습니다.\")\n",
        "    print(\"Colab/로컬에서 아래 주석을 해제해 설치하세요:\")\n",
        "    print(\"!pip install -U pm4py\")"
      ],
      "metadata": {
        "id": "uHOaRS8bwAYP"
      },
      "execution_count": null,
      "outputs": []
    },
    {
      "cell_type": "markdown",
      "metadata": {
        "id": "1rnWUzFKvg52"
      },
      "source": [
        "## 환경 설정 (Setup)\n",
        "\n",
        "본 노트북에서는 아래의 라이브러리를 활용한다:\n",
        "\n",
        "* [pm4py](https://pm4py.fit.fraunhofer.de/)\n",
        "* [pandas](https://pandas.pydata.org/)"
      ]
    },
    {
      "cell_type": "code",
      "execution_count": null,
      "metadata": {
        "id": "KLD-Xf4Avg52"
      },
      "outputs": [],
      "source": [
        "import pandas as pd\n",
        "import pm4py"
      ]
    },
    {
      "cell_type": "markdown",
      "metadata": {
        "id": "ocBjv8qavg52"
      },
      "source": [
        "## Conformance Checking"
      ]
    },
    {
      "cell_type": "markdown",
      "metadata": {
        "id": "p9JdNgEwvg52"
      },
      "source": [
        "### Process Models\n",
        "\n",
        "프로세스 모델의 대표적인 산업 표준은 [BPMN](https://www.bpmn.org/)\n",
        "이며, 이는 [BPMN.io](https://bpmn.io/) 있으며 PM4Py에 로드하여 활용할 수 있다. 본 예제에서는 `Sepsis Process` 의 기대되는 프로세스 동작을 설명하기 위해 수동으로 작성된 BPMN 모델을 불러온다. 본 프로세스는 병원에서 생명을 위협하는 패혈증이 의심되는 환자에게 수행되는 여러 물류적·진단적 활동을 묘사하는 프로세스이다. 실제 병원의 정보 시스템에서 추출된 이벤트 로그가 공개되어 있으며, 이를 실행 예제로 사용한다."
      ]
    },
    {
      "cell_type": "code",
      "execution_count": null,
      "metadata": {
        "id": "YYmX0z8Avg53"
      },
      "outputs": [],
      "source": [
        "sepsis_bpmn = pm4py.read_bpmn(\"../data/sepsis.bpmn\")"
      ]
    },
    {
      "cell_type": "code",
      "execution_count": null,
      "metadata": {
        "id": "Fr9xfzYyvg53"
      },
      "outputs": [],
      "source": [
        "pm4py.vis.view_bpmn(sepsis_bpmn)"
      ]
    },
    {
      "cell_type": "markdown",
      "metadata": {
        "id": "0KFCcEp6vg53"
      },
      "source": [
        "### Alignments\n",
        "\n"
      ]
    },
    {
      "cell_type": "code",
      "execution_count": null,
      "metadata": {
        "id": "Ijog2Yyvvg53"
      },
      "outputs": [],
      "source": [
        "sepsis = pd.read_csv(\"../data/sepsis.csv\", sep=';')\n",
        "num_rows = len(sepsis)\n",
        "print(\"Number of rows: {}\".format(num_rows))"
      ]
    },
    {
      "cell_type": "code",
      "execution_count": null,
      "metadata": {
        "id": "NzjBL_AXvg53"
      },
      "outputs": [],
      "source": [
        "sepsis.head()"
      ]
    },
    {
      "cell_type": "code",
      "execution_count": null,
      "metadata": {
        "id": "ZMOpMzX4vg53"
      },
      "outputs": [],
      "source": [
        "sepsis['timestamp'] = pd.to_datetime(sepsis['timestamp'])\n",
        "sepsis_log = pm4py.format_dataframe(sepsis, case_id='case_id', activity_key='activity', timestamp_key='timestamp')\n",
        "sepsis_log = pm4py.convert_to_event_log(sepsis_log)"
      ]
    },
    {
      "cell_type": "markdown",
      "metadata": {
        "id": "pUTycSGdvg53"
      },
      "source": [
        "먼저, 프로세스 발견 알고리즘에서 배운 DFG 기반의 프로세스 맵을 도출한다."
      ]
    },
    {
      "cell_type": "code",
      "execution_count": null,
      "metadata": {
        "id": "mzBQD85fvg53"
      },
      "outputs": [],
      "source": [
        "from pm4py.algo.discovery.dfg import algorithm as dfg_discovery\n",
        "from pm4py.algo.discovery.dfg import algorithm as dfg_discovery\n",
        "from pm4py.visualization.dfg import visualizer as dfg_visualization\n",
        "\n",
        "dfg = dfg_discovery.apply(sepsis_log)\n",
        "\n",
        "dfg = dfg_discovery.apply(sepsis_log, variant=dfg_discovery.Variants.PERFORMANCE)\n",
        "gviz = dfg_visualization.apply(dfg, log=sepsis_log, variant=dfg_visualization.Variants.PERFORMANCE)\n",
        "dfg_visualization.view(gviz)"
      ]
    },
    {
      "cell_type": "markdown",
      "metadata": {
        "id": "Q06g6uK7vg53"
      },
      "source": [
        "DFG 기반의 모델은 굉장히 복잡하여 적합도 검사를 위해 직접 활용하기 쉽지 않다. 따라서, `alpha-algorithm`이나 `inductive mining`을 활용하면 적용 가능하다. 그러나, 위의 BPMN 모델로 표현된 `Sepsis Process`처럼 수작업으로 작성된 규범적인(normative) 프로세스 모델이 있는 경우에는 또 다른 새로운 인사이트를 얻을 수 있다.\n",
        "\n",
        "PM4Py에서는 BPMN 모델을 페트리넷(Petri net)으로 변환한 후, 이벤트 로그에 포함된 트레이스(trace)들과 모델 간의 최적 정렬(optimal alignment)을 계산할 수 있다. 이를 통해, 각 트레이스마다 이벤트가 모델을 따라가는 경로(실행, run)와 어떻게 대응되는지를 확인할 수 있으며, 이는 실제 기록된 이벤트 로그와 가장 유사한 경로를 제공해준다.\n",
        "(**주의**: 이 과정은 계산량이 많아 시간이 오래 걸릴 수 있다.)\n"
      ]
    },
    {
      "cell_type": "code",
      "execution_count": null,
      "metadata": {
        "id": "P7uY0yFZvg54"
      },
      "outputs": [],
      "source": [
        "from pm4py.objects.conversion.bpmn import converter as bpmn_converter\n",
        "\n",
        "sepsis_net, sepsis_im, sepsis_fm = bpmn_converter.apply(sepsis_bpmn)\n",
        "\n",
        "sepsis_alignment = pm4py.conformance_diagnostics_alignments(sepsis_log, sepsis_net, sepsis_im, sepsis_fm)"
      ]
    },
    {
      "cell_type": "markdown",
      "metadata": {
        "id": "xBu1mMXovg54"
      },
      "source": [
        "개별적인 트레이스의 *alignment*는 아래와 같다."
      ]
    },
    {
      "cell_type": "code",
      "execution_count": null,
      "metadata": {
        "id": "VD4eGnPnvg54"
      },
      "outputs": [],
      "source": [
        "sepsis_alignment[0]"
      ]
    },
    {
      "cell_type": "markdown",
      "metadata": {
        "id": "8EOQyizdvg54"
      },
      "source": [
        "Alignment에 따른 통계 결과를 아래와 같이 페트리넷 위에 annotate하여 확인할 수 있다."
      ]
    },
    {
      "cell_type": "code",
      "execution_count": null,
      "metadata": {
        "id": "dSqqi50Pvg54"
      },
      "outputs": [],
      "source": [
        "from pm4py.visualization.petri_net import visualizer as pn_vis\n",
        "\n",
        "pn_vis.apply(sepsis_net, sepsis_im, sepsis_fm, sepsis_log, variant = pn_vis.Variants.ALIGNMENTS)"
      ]
    },
    {
      "cell_type": "markdown",
      "metadata": {
        "id": "bKMOL-F1vg54"
      },
      "source": [
        "본 통계치는 (number of skips or move on model, number of correct or synchronous events)로 확인된다."
      ]
    },
    {
      "cell_type": "markdown",
      "metadata": {
        "id": "UC3qkdDzvg54"
      },
      "source": [
        "전체 로그를 바탕으로 적용한 alignment 기반의 평균 적합도 계산 결과는 다음과 같다."
      ]
    },
    {
      "cell_type": "code",
      "execution_count": null,
      "metadata": {
        "id": "2rCkfGH4vg54"
      },
      "outputs": [],
      "source": [
        "from pm4py.algo.evaluation.replay_fitness import algorithm as replay_fitness\n",
        "log_fitness = replay_fitness.evaluate(sepsis_alignment, variant=replay_fitness.Variants.ALIGNMENT_BASED)\n",
        "print(log_fitness)"
      ]
    },
    {
      "cell_type": "markdown",
      "metadata": {
        "id": "ffhQWN7Hvg54"
      },
      "source": [
        "PM4Py를 통해 *precision*에 해당하는 결과도 연산할 수 있다."
      ]
    },
    {
      "cell_type": "code",
      "execution_count": null,
      "metadata": {
        "id": "xMeysTzovg54"
      },
      "outputs": [],
      "source": [
        "from pm4py.algo.evaluation.precision import algorithm as precision_evaluator\n",
        "prec = precision_evaluator.apply(sepsis_log, sepsis_net, sepsis_im, sepsis_fm, variant=precision_evaluator.Variants.ALIGN_ETCONFORMANCE)"
      ]
    },
    {
      "cell_type": "code",
      "execution_count": null,
      "metadata": {
        "id": "ySXxkccWvg54"
      },
      "outputs": [],
      "source": [
        "prec"
      ]
    }
  ],
  "metadata": {
    "kernelspec": {
      "display_name": "Python 3 (ipykernel)",
      "language": "python",
      "name": "python3"
    },
    "language_info": {
      "codemirror_mode": {
        "name": "ipython",
        "version": 3
      },
      "file_extension": ".py",
      "mimetype": "text/x-python",
      "name": "python",
      "nbconvert_exporter": "python",
      "pygments_lexer": "ipython3",
      "version": "3.8.13"
    },
    "colab": {
      "provenance": [],
      "include_colab_link": true
    }
  },
  "nbformat": 4,
  "nbformat_minor": 0
}