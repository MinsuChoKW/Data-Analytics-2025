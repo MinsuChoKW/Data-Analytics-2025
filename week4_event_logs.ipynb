{
  "cells": [
    {
      "cell_type": "markdown",
      "metadata": {
        "id": "view-in-github",
        "colab_type": "text"
      },
      "source": [
        "<a href=\"https://colab.research.google.com/github/MinsuChoKW/Data-Analytics-2025/blob/main/week4_event_logs.ipynb\" target=\"_parent\"><img src=\"https://colab.research.google.com/assets/colab-badge.svg\" alt=\"Open In Colab\"/></a>"
      ]
    },
    {
      "cell_type": "markdown",
      "metadata": {
        "id": "d244208f"
      },
      "source": [
        "# 📘 Week 4 - 이벤트 로그 · 프로세스 마이닝 (PM4Py)\n",
        "\n",
        "- 이 노트북은 **최신 PM4Py** 버전(권장: 2.7 이상) 기준으로 작성됨.\n",
        "- 실습 항목: 이벤트 로그 로드, 간단 전처리, Dotted Chart 등 확인\n",
        "- 오류가 발생하면 아래 환경 점검 셀을 먼저 실행해 버전을 확인하고, 필요 시 pip 설치 주석을 해제하여야 함."
      ]
    },
    {
      "cell_type": "code",
      "execution_count": null,
      "metadata": {
        "id": "3f80bc13"
      },
      "outputs": [],
      "source": [
        "# ✅ 환경 점검: PM4Py 버전 확인 (필요 시 설치)\n",
        "try:\n",
        "    import pm4py\n",
        "    print(\"pm4py version:\", pm4py.__version__)\n",
        "except Exception as e:\n",
        "    print(\"pm4py가 설치되어 있지 않거나 환경 문제가 있습니다.\")\n",
        "    print(\"Colab/로컬에서 아래 주석을 해제해 설치하세요:\")\n",
        "    print(\"!pip install -U pm4py\")"
      ]
    },
    {
      "cell_type": "markdown",
      "metadata": {
        "id": "V_zUOdTGZsRk"
      },
      "source": [
        "## 환경 설정 (Setup)\n",
        "\n",
        "본 노트북에서는 아래의 라이브러리를 활용한다:\n",
        "\n",
        "* [PM4Py](https://pm4py.fit.fraunhofer.de/)\n",
        "* [pandas](https://pandas.pydata.org/)\n",
        "* [matplotlib](https://matplotlib.org)\n"
      ]
    },
    {
      "cell_type": "code",
      "execution_count": null,
      "metadata": {
        "id": "BRVb3NJxZsRl"
      },
      "outputs": [],
      "source": [
        "import pandas as pd\n",
        "import pm4py\n",
        "import matplotlib.pyplot as plt"
      ]
    },
    {
      "cell_type": "markdown",
      "metadata": {
        "id": "hndBhQVAZsRl"
      },
      "source": [
        "## 이벤트 로그 (Event Logs)\n",
        "이 부분에서는 이벤트 로그와 프로세스 마이닝 방법의 기반이 되는 고유한 속성을 소개한다.. 본 실습을 위해서는 `data` 디렉토리에 있는 CSV 파일에서 로드해야 한다. 이 강의에서는 다음 데이터셋을 사용할 것이다:\n",
        "\n",
        "* Patients: 병원 환경에서 합성적으로 생성된 예제 이벤트 로그이다.\n",
        "* Sepsis: 네덜란드 병원에서 가져온 실제 이벤트 로그이다. 이 이벤트 로그는 다음에서 공개적으로 사용할 수 있으며 많은 프로세스 마이닝 관련 출판물에서 사용되었다: https://doi.org/10.4121/uuid:915d2bfb-7e84-49ad-a286-dc35f063a460"
      ]
    },
    {
      "cell_type": "markdown",
      "metadata": {
        "id": "XtuenpkBZsRl"
      },
      "source": [
        "### Import Patients Data"
      ]
    },
    {
      "cell_type": "code",
      "execution_count": null,
      "metadata": {
        "id": "bnb-7eeEZsRm"
      },
      "outputs": [],
      "source": [
        "patients = pd.read_csv(\"../data/patients.csv\", sep=';')\n",
        "patients['time'] = pd.to_datetime(patients['time'])\n",
        "num_rows = len(patients)\n",
        "print(\"Number of rows: {}\".format(num_rows))"
      ]
    },
    {
      "cell_type": "markdown",
      "metadata": {
        "id": "OgUaRAuHZsRm"
      },
      "source": [
        "### Import Sepsis Data"
      ]
    },
    {
      "cell_type": "code",
      "execution_count": null,
      "metadata": {
        "id": "sYJQgVKWZsRm"
      },
      "outputs": [],
      "source": [
        "sepsis = pd.read_csv(\"../data/sepsis.csv\", sep=';')\n",
        "num_rows = len(sepsis)\n",
        "sepsis['timestamp'] = pd.to_datetime(sepsis['timestamp'])\n",
        "print(\"Number of rows: {}\".format(num_rows))"
      ]
    },
    {
      "cell_type": "markdown",
      "metadata": {
        "id": "0nCjkwfrZsRm"
      },
      "source": [
        "### Exploring Event Data\n",
        "\n",
        "우선 이벤트 로그의 구조나 특성에 대한 사전 지식 없이 이벤트 데이터를 탐색해 본다. 이를 위해 표준 Pandas와 Matplotlib를 활용한다."
      ]
    },
    {
      "cell_type": "markdown",
      "metadata": {
        "id": "fYMgBt3HwhMX"
      },
      "source": [
        "데이터 내 Timestamp의 포멧 변경을 위하여 아래의 항목을 적용한다."
      ]
    },
    {
      "cell_type": "code",
      "execution_count": null,
      "metadata": {
        "id": "Jl58c8LIjGZs"
      },
      "outputs": [],
      "source": [
        "patients['time'] = pd.to_datetime(patients['time'], utc=True, errors='coerce').dt.tz_convert(None)\n",
        "patients['time'] = patients['time'].astype('datetime64[ns]')"
      ]
    },
    {
      "cell_type": "code",
      "execution_count": null,
      "metadata": {
        "id": "WZwkVEivlrnF"
      },
      "outputs": [],
      "source": [
        "sepsis['timestamp'] = pd.to_datetime(sepsis['timestamp'], utc=True, errors='coerce').dt.tz_convert(None)\n",
        "sepsis['timestamp'] = sepsis['timestamp'].astype('datetime64[ns]')"
      ]
    },
    {
      "cell_type": "code",
      "execution_count": null,
      "metadata": {
        "id": "vcqgiFsLZsRm"
      },
      "outputs": [],
      "source": [
        "sepsis.head()"
      ]
    },
    {
      "cell_type": "markdown",
      "metadata": {
        "id": "j_kKN6ZoZsRn"
      },
      "source": [
        "이벤트 로그에서 가장 중요한 요소는 `time` 이다. 이를 통해 이벤트들의 순서를 확립할 수 있다."
      ]
    },
    {
      "cell_type": "code",
      "execution_count": null,
      "metadata": {
        "id": "GWH6FERyg6vc"
      },
      "outputs": [],
      "source": [
        "t = pd.to_datetime(patients['time'])\n",
        "\n",
        "x = t[t < pd.Timestamp('2017-01-31')].dropna()\n",
        "\n",
        "plt.figure(figsize=(10, 2))\n",
        "plt.scatter(x, [0]*len(x), s=10)\n",
        "plt.ylabel(\"Event\")\n",
        "plt.yticks([])\n",
        "plt.xticks(rotation=45)\n",
        "plt.grid(axis='x', linestyle='--', alpha=0.5)\n",
        "\n",
        "plt.tight_layout()\n",
        "plt.show()"
      ]
    },
    {
      "cell_type": "markdown",
      "metadata": {
        "id": "Pt0H87UvZsRn"
      },
      "source": [
        "또한 어떤 종류의 행동이나 `활동(activities)`이 수행되었는지에 대한 정보도 필요하다."
      ]
    },
    {
      "cell_type": "code",
      "execution_count": null,
      "metadata": {
        "id": "H-0dRqUiZsRn"
      },
      "outputs": [],
      "source": [
        "patients.drop_duplicates(subset='handling')[[\"handling\"]]"
      ]
    },
    {
      "cell_type": "markdown",
      "metadata": {
        "id": "EAkJJcu1ZsRn"
      },
      "source": [
        "다른 어떤 데이터가 있는지 한번 살펴보자."
      ]
    },
    {
      "cell_type": "code",
      "execution_count": null,
      "metadata": {
        "id": "AP5JOXAaZsRo"
      },
      "outputs": [],
      "source": [
        "patients.drop_duplicates(subset='patient')[[\"patient\"]].head()"
      ]
    },
    {
      "cell_type": "markdown",
      "metadata": {
        "id": "1I8MRnLsZsRo"
      },
      "source": [
        "아마도 환자 식별자가 프로세스의 `케이스(case)`를 정의하는 데 좋은 후보가 될 수 있을 것이다. 이는 우리가 추적하고자 하는 '엔티티'이기 때문이다. 개별 환자별로 발생한 이벤트 수를 세어보면, 각 환자마다 유사한 이벤트 개수가 나타나는데, 이는 일반적으로 프로세스 케이스 식별자를 정하는 데 좋은 지표가 된다."
      ]
    },
    {
      "cell_type": "code",
      "execution_count": null,
      "metadata": {
        "id": "m3OIV7slZsRo"
      },
      "outputs": [],
      "source": [
        "patients.groupby(['patient'])[\"patient\"].agg(['count']).head()"
      ]
    },
    {
      "cell_type": "markdown",
      "metadata": {
        "id": "jkwNQfhuZsRo"
      },
      "source": [
        "환자 식별자를 `케이스 식별자(case identifier)`로 삼아 프로세스를 따라가기로 하자."
      ]
    },
    {
      "cell_type": "code",
      "execution_count": null,
      "metadata": {
        "id": "iV0QYRh9ZsRo"
      },
      "outputs": [],
      "source": [
        "patients['time'] = pd.to_datetime(patients['time'])\n",
        "patients_sample = patients[patients['time'] < pd.Timestamp('2017-01-31')].dropna(subset=['time'])\n",
        "\n",
        "plt.figure(figsize=(10, 4))\n",
        "scatter = plt.scatter(\n",
        "    patients_sample['time'],\n",
        "    patients_sample['patient'],\n",
        "    c=pd.Categorical(patients_sample['handling']).codes,\n",
        "    cmap='tab10',\n",
        "    s=20\n",
        ")\n",
        "\n",
        "plt.ylabel(\"Patient\")\n",
        "plt.xticks(rotation=45)\n",
        "plt.grid(axis='x', linestyle='--', alpha=0.5)\n",
        "\n",
        "handles, labels = scatter.legend_elements(prop=\"colors\", alpha=0.6)\n",
        "plt.legend(handles, pd.Categorical(patients_sample['handling']).categories,\n",
        "           title=\"Handling\", bbox_to_anchor=(1.05, 1), loc='upper left')\n",
        "\n",
        "plt.tight_layout()\n",
        "plt.show()"
      ]
    },
    {
      "cell_type": "markdown",
      "metadata": {
        "id": "O6b3J8nBZsRo"
      },
      "source": [
        "위 산점도는 프로세스 마이닝 분야에서 `도트 차트(Dotted Chart)`라고 불리며, 케이스 단위로 묶었을 때 이벤트와 그 시간적 관계를 한눈에 보여준다. 각 이벤트 시퀀스(`트레이스`라고도 함)는 `등록(Registration)` 이벤트로 시작하는 것처럼 보인다. 이제 이벤트 데이터를 환자 식별자와 시간 기준으로 정렬해서 살펴보자."
      ]
    },
    {
      "cell_type": "code",
      "execution_count": null,
      "metadata": {
        "id": "LaYRwX96ZsRo"
      },
      "outputs": [],
      "source": [
        "patients.sort_values(['patient', 'time']).head(14)"
      ]
    },
    {
      "cell_type": "markdown",
      "metadata": {
        "id": "L_MWDAgiZsRo"
      },
      "source": [
        "개별 프로세스 실행(예: 환자 1의 경우)은 여러 활동이 순차적으로 수행되는 것으로 구성된다. 하지만 단순히 이벤트의 순서만 있는 것이 아니라 더 많은 정보가 주어진다. 각 활동의 발생에는 두 개의 이벤트가 있는데, 하나는 `start` 이벤트이고 다른 하나는 `complete` 이벤트이며 이는 `registration_type` 열에 기록된다. 이러한 이벤트들은 활동의 라이프사이클을 나타내며, 활동의 `지속 시간(duration)`을 측정할 수 있게 한다."
      ]
    },
    {
      "cell_type": "markdown",
      "metadata": {
        "id": "y0xvg0C7ZsRp"
      },
      "source": [
        "### Further resources\n",
        "\n",
        "* [XES Standard](http://xes-standard.org/)\n",
        "* [Importing XES event logs](https://processintelligence.solutions/pm4py/api?page=pm4py.html%23pm4py.read.read_xes)"
      ]
    },
    {
      "cell_type": "markdown",
      "metadata": {
        "id": "AqBlcr9kZsRp"
      },
      "source": [
        "####성찰 질문(Reflection Questions)\n",
        "* 왜 이 데이터셋에 `.order`라는 열이 포함되어 있을까?\n",
        "* `employee` 열은 어떻게 활용할 수 있을까?\n",
        "* `handling_id` 열은 어떤 용도로 쓰이며, 어떤 상황에서 필요할까?"
      ]
    },
    {
      "cell_type": "markdown",
      "metadata": {
        "id": "KmoSyDiPZsRp"
      },
      "source": [
        "## Basic Process Visualization"
      ]
    },
    {
      "cell_type": "markdown",
      "metadata": {
        "id": "-mrtcIWkZsRp"
      },
      "source": [
        "### Dotted Chart\n",
        "\n",
        "`Dotted Chart`는 각 트레이스의 시간적 측면을 더해주고, 모든 트레이스를 한눈에 시각화한다. 다양한 방식으로 설정할 수 있어 프로세스 동작의 시간 관련 특성을 이해하는 데 유용하다. PM4Py는 기본적인 Dotted Chart 시각화를 제공한다."
      ]
    },
    {
      "cell_type": "code",
      "execution_count": null,
      "metadata": {
        "id": "xmmD87DwZsRq"
      },
      "outputs": [],
      "source": [
        "patients_log = pm4py.format_dataframe(patients, case_id='patient', activity_key='handling', timestamp_key='time')\n",
        "pm4py.view_dotted_chart(pm4py.filter_time_range(patients_log, \"1970-01-01 00:00:00\", \"2017-01-31 00:00:00\", mode='events'))"
      ]
    },
    {
      "cell_type": "markdown",
      "metadata": {
        "id": "hmET-2_oZsRq"
      },
      "source": [
        "대안적으로, 시각화를 더 세밀하게 커스터마이즈하기 위해 동일한 뷰를 plt를 사용해 간단히 재현할 수 있으며, 이를 통해 관점 선택에서 더 큰 유연성을 가질 수 있다."
      ]
    },
    {
      "cell_type": "code",
      "execution_count": null,
      "metadata": {
        "id": "hnlbDimsZsRq"
      },
      "outputs": [],
      "source": [
        "patients_sorted = patients.sort_values(['time'])\n",
        "patients_sorted['patient'] = pd.Categorical(patients_sorted['patient'],\n",
        "                                            categories = patients_sorted['patient'].drop_duplicates().tolist()[::-1], ordered= True)"
      ]
    },
    {
      "cell_type": "markdown",
      "metadata": {
        "id": "8I2K1TX2ZsRq"
      },
      "source": [
        "#### Absolute Time Dimension"
      ]
    },
    {
      "cell_type": "code",
      "execution_count": null,
      "metadata": {
        "id": "mEMd7ITMZsRq"
      },
      "outputs": [],
      "source": [
        "df = patients_sorted.copy()\n",
        "df['time'] = pd.to_datetime(df['time'], utc=True, errors='coerce').dt.tz_convert(None)\n",
        "\n",
        "df = df[df['time'] < pd.Timestamp('2017-01-31')].dropna(subset=['time'])\n",
        "\n",
        "plt.figure(figsize=(10, 4))\n",
        "scatter = plt.scatter(\n",
        "    df['time'],\n",
        "    df['patient'],\n",
        "    c=pd.Categorical(df['handling']).codes,\n",
        "    cmap='tab10',\n",
        "    s=20\n",
        ")\n",
        "\n",
        "plt.xticks(rotation=45, ha='right')\n",
        "plt.ylabel(\"Patient\")\n",
        "plt.yticks([])\n",
        "plt.grid(axis='x', linestyle='--', alpha=0.4)\n",
        "\n",
        "handles, labels = scatter.legend_elements(prop=\"colors\", alpha=0.6)\n",
        "plt.legend(handles,\n",
        "           pd.Categorical(df['handling']).categories,\n",
        "           title=\"Handling\",\n",
        "           bbox_to_anchor=(1.05, 1), loc='upper left')\n",
        "\n",
        "plt.tight_layout()\n",
        "plt.show()"
      ]
    },
    {
      "cell_type": "markdown",
      "metadata": {
        "id": "JwFb9x3QZsRr"
      },
      "source": [
        "#### Relative Time Dimension"
      ]
    },
    {
      "cell_type": "markdown",
      "metadata": {
        "id": "Ssdrb9KYZsRr"
      },
      "source": [
        "시간을 상대값으로 바꿔서 그 결과를 담을 새 열 `time_relative`를 추가한다."
      ]
    },
    {
      "cell_type": "code",
      "execution_count": null,
      "metadata": {
        "id": "kztQ3OWaZsRr"
      },
      "outputs": [],
      "source": [
        "patients_sorted['time_relative'] = patients_sorted['time'].sub( patients_sorted.groupby('patient')['time'].transform('first'))"
      ]
    },
    {
      "cell_type": "code",
      "execution_count": null,
      "metadata": {
        "id": "_GZ58roAZsRs"
      },
      "outputs": [],
      "source": [
        "df = patients_sorted.copy()\n",
        "\n",
        "plt.figure(figsize=(10, 4))\n",
        "scatter = plt.scatter(\n",
        "    df['time_relative'],\n",
        "    df['patient'],\n",
        "    c=pd.Categorical(df['handling']).codes,\n",
        "    cmap='tab10',\n",
        "    s=20\n",
        ")\n",
        "\n",
        "plt.xticks(rotation=45, ha='right')\n",
        "plt.ylabel(\"Patient\")\n",
        "plt.yticks([])\n",
        "plt.grid(axis='x', linestyle='--', alpha=0.4)\n",
        "\n",
        "handles, labels = scatter.legend_elements(prop=\"colors\", alpha=0.6)\n",
        "plt.legend(handles,\n",
        "           pd.Categorical(df['handling']).categories,\n",
        "           title=\"Handling\",\n",
        "           bbox_to_anchor=(1.05, 1), loc='upper left')\n",
        "\n",
        "plt.tight_layout()\n",
        "plt.show()"
      ]
    },
    {
      "cell_type": "markdown",
      "metadata": {
        "id": "7-dkDua3ZsRs"
      },
      "source": [
        "각 케이스별 전체 소요시간을 위한 새 열 `duration`을 추가한다."
      ]
    },
    {
      "cell_type": "code",
      "execution_count": null,
      "metadata": {
        "id": "LcCZBMWWZsRs"
      },
      "outputs": [],
      "source": [
        "patients_sorted['duration'] = patients_sorted.groupby('patient')['time_relative'].transform('max')"
      ]
    },
    {
      "cell_type": "code",
      "execution_count": null,
      "metadata": {
        "id": "Xl56V5uvZsRs"
      },
      "outputs": [],
      "source": [
        "df = patients_sorted.sort_values(['duration']).copy()\n",
        "df['patient'] = pd.Categorical(\n",
        "    df['patient'],\n",
        "    categories=df['patient'].drop_duplicates().tolist()[::-1],\n",
        "    ordered=True\n",
        ")\n",
        "\n",
        "x = pd.to_timedelta(df['time_relative'], errors='coerce')\n",
        "mask = x.notna()\n",
        "x_days = x[mask].dt.total_seconds() / 86400.0\n",
        "\n",
        "plt.figure(figsize=(10, 6))\n",
        "scatter = plt.scatter(\n",
        "    x_days,\n",
        "    df.loc[mask, 'patient'].astype(str),\n",
        "    c=pd.Categorical(df.loc[mask, 'handling']).codes,\n",
        "    cmap='tab10',\n",
        "    s=20\n",
        ")\n",
        "\n",
        "plt.xlabel(\"time_relative (days)\")\n",
        "plt.ylabel(\"Patient\")\n",
        "plt.yticks([])\n",
        "plt.xticks(rotation=45, ha='right')\n",
        "plt.grid(axis='x', linestyle='--', alpha=0.4)\n",
        "\n",
        "handles, _ = scatter.legend_elements(prop=\"colors\", alpha=0.6)\n",
        "plt.legend(handles,\n",
        "           pd.Categorical(df.loc[mask, 'handling']).categories,\n",
        "           title=\"Handling\",\n",
        "           bbox_to_anchor=(1.05, 1), loc='upper left')\n",
        "\n",
        "plt.tight_layout()\n",
        "plt.show()"
      ]
    },
    {
      "cell_type": "markdown",
      "metadata": {
        "id": "vIO8ydUBZsRs"
      },
      "source": [
        "PM4Py에서 제공하는 다른 기본적인 프로세스 시각화 옵션.\n",
        "\n",
        "* [Basic Process Statistics](https://processintelligence.solutions/pm4py/api?page=pm4py.html%23module-pm4py.stats)"
      ]
    },
    {
      "cell_type": "markdown",
      "metadata": {
        "id": "xDo0T5uFZsRs"
      },
      "source": [
        "## Process Map Visualization"
      ]
    },
    {
      "cell_type": "markdown",
      "metadata": {
        "id": "6-3B03izZsRs"
      },
      "source": [
        "마찬가지로, PM4Py에는 내장된 선행 관계 행렬(Precedence Matrix) 시각화 기능이 없지만, 이를 손쉽게 재현할 수 있다."
      ]
    },
    {
      "cell_type": "code",
      "execution_count": null,
      "metadata": {
        "id": "RYeTYICOZsRs"
      },
      "outputs": [],
      "source": [
        "patients_sorted['antecedent'] = patients_sorted.groupby([\"patient\"])['handling'].shift(1).fillna(\"Start\")\n",
        "patients_sorted['consequent'] = patients_sorted['handling']"
      ]
    },
    {
      "cell_type": "code",
      "execution_count": null,
      "metadata": {
        "id": "U9FZYGoKZsRt"
      },
      "outputs": [],
      "source": [
        "transition_counts = patients_sorted.groupby(['antecedent', 'consequent']).size().reset_index(name='count')\n",
        "heatmap_data = transition_counts.pivot(index='antecedent', columns='consequent', values='count').fillna(0)\n",
        "\n",
        "fig, ax = plt.subplots(figsize=(12, 8))\n",
        "cax = ax.matshow(heatmap_data, cmap='Blues')\n",
        "\n",
        "ax.set_title('Directly-Follows Heatmap (Patients Data)', y=1.05)\n",
        "ax.set_xlabel('Consequent Activity')\n",
        "ax.set_ylabel('Antecedent Activity')\n",
        "\n",
        "ax.set_xticks(np.arange(len(heatmap_data.columns)))\n",
        "ax.set_xticklabels(heatmap_data.columns, rotation=45, ha='right')\n",
        "ax.set_yticks(np.arange(len(heatmap_data.index)))\n",
        "ax.set_yticklabels(heatmap_data.index)\n",
        "\n",
        "ax.xaxis.tick_bottom()\n",
        "\n",
        "fig.colorbar(cax, ax=ax, orientation='vertical', label='Frequency')\n",
        "\n",
        "plt.tight_layout(rect=[0, 0, 1, 0.95])\n",
        "plt.show()"
      ]
    },
    {
      "cell_type": "markdown",
      "metadata": {
        "id": "AKmzT-0GZsRt"
      },
      "source": [
        "### Directly-follows Graph / Process Map"
      ]
    },
    {
      "cell_type": "markdown",
      "metadata": {
        "id": "U1cgzVJCZsRt"
      },
      "source": [
        "아래는 다음 구현에서 자세히 다룰 Process Discovery에 한 예인 DFG를 나타낸다."
      ]
    },
    {
      "cell_type": "code",
      "execution_count": null,
      "metadata": {
        "id": "_qvZmLmzZsRt"
      },
      "outputs": [],
      "source": [
        "patients_log = patients_log[patients_log['registration_type'] == 'complete']"
      ]
    },
    {
      "cell_type": "code",
      "execution_count": null,
      "metadata": {
        "id": "B2mieyfyZsRt"
      },
      "outputs": [],
      "source": [
        "dfg, sa, ea = pm4py.discover_directly_follows_graph(patients_log)"
      ]
    },
    {
      "cell_type": "code",
      "execution_count": null,
      "metadata": {
        "id": "71CB-h9mZsRt"
      },
      "outputs": [],
      "source": [
        "pm4py.view_dfg(dfg, sa, ea)"
      ]
    },
    {
      "cell_type": "code",
      "execution_count": null,
      "metadata": {
        "id": "fMjJpazZZsRt"
      },
      "outputs": [],
      "source": [
        "from pm4py.algo.discovery.dfg import algorithm as dfg_discovery\n",
        "from pm4py.algo.discovery.dfg import algorithm as dfg_discovery\n",
        "from pm4py.visualization.dfg import visualizer as dfg_visualization\n",
        "\n",
        "dfg = dfg_discovery.apply(patients_log)\n",
        "\n",
        "dfg = dfg_discovery.apply(patients_log, variant=dfg_discovery.Variants.PERFORMANCE)\n",
        "gviz = dfg_visualization.apply(dfg, log=patients_log, variant=dfg_visualization.Variants.PERFORMANCE)\n",
        "dfg_visualization.view(gviz)"
      ]
    },
    {
      "cell_type": "markdown",
      "metadata": {
        "id": "seshUmwsZsRt"
      },
      "source": [
        "## Real-life Processes"
      ]
    },
    {
      "cell_type": "code",
      "execution_count": null,
      "metadata": {
        "id": "2DET5iziZsRt"
      },
      "outputs": [],
      "source": [
        "sepsis_sorted = sepsis.sort_values(['timestamp'])\n",
        "sepsis_sorted['timestamp'] = pd.to_datetime(sepsis_sorted['timestamp'])"
      ]
    },
    {
      "cell_type": "code",
      "execution_count": null,
      "metadata": {
        "id": "m9P3aCIcZsRt"
      },
      "outputs": [],
      "source": [
        "sepsis_sorted['antecedent'] = sepsis_sorted.groupby([\"case_id\"])['activity'].shift(1).fillna(\"Start\")\n",
        "sepsis_sorted['consequent'] = sepsis_sorted['activity']"
      ]
    },
    {
      "cell_type": "code",
      "execution_count": null,
      "metadata": {
        "id": "2e025cd6"
      },
      "outputs": [],
      "source": [
        "transition_counts = sepsis_sorted.groupby(['antecedent', 'consequent']).size().reset_index(name='count')\n",
        "heatmap_data = transition_counts.pivot(index='antecedent', columns='consequent', values='count').fillna(0)\n",
        "\n",
        "fig, ax = plt.subplots(figsize=(12, 8))\n",
        "cax = ax.matshow(heatmap_data, cmap='Blues')\n",
        "\n",
        "plt.title('Directly-Follows Heatmap (Sepsis Data)')\n",
        "plt.xlabel('Consequent Activity')\n",
        "plt.ylabel('Antecedent Activity')\n",
        "\n",
        "ax.set_xticks(np.arange(len(heatmap_data.columns)))\n",
        "ax.set_xticklabels(heatmap_data.columns, rotation=45, ha='right')\n",
        "ax.set_yticks(np.arange(len(heatmap_data.index)))\n",
        "ax.set_yticklabels(heatmap_data.index)\n",
        "\n",
        "ax.xaxis.tick_bottom()\n",
        "\n",
        "plt.xticks(ticks=range(len(heatmap_data.columns)), labels=heatmap_data.columns, rotation=45, ha='right')\n",
        "plt.yticks(ticks=range(len(heatmap_data.index)), labels=heatmap_data.index, rotation=0)\n",
        "\n",
        "fig.colorbar(cax, ax=ax, orientation='vertical', label='Frequency')\n",
        "\n",
        "plt.tight_layout()\n",
        "plt.show()\n"
      ]
    }
  ],
  "metadata": {
    "colab": {
      "provenance": [],
      "include_colab_link": true
    },
    "kernelspec": {
      "display_name": "Python 3",
      "language": "python",
      "name": "python3"
    },
    "language_info": {
      "codemirror_mode": {
        "name": "ipython",
        "version": 3
      },
      "file_extension": ".py",
      "mimetype": "text/x-python",
      "name": "python",
      "nbconvert_exporter": "python",
      "pygments_lexer": "ipython3",
      "version": "3.10.5"
    }
  },
  "nbformat": 4,
  "nbformat_minor": 0
}