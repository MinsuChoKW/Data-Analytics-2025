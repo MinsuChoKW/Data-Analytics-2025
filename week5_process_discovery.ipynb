{
  "cells": [
    {
      "cell_type": "markdown",
      "metadata": {
        "id": "view-in-github",
        "colab_type": "text"
      },
      "source": [
        "<a href=\"https://colab.research.google.com/github/MinsuChoKW/Data-Analytics-2025/blob/main/week5_process_discovery.ipynb\" target=\"_parent\"><img src=\"https://colab.research.google.com/assets/colab-badge.svg\" alt=\"Open In Colab\"/></a>"
      ]
    },
    {
      "cell_type": "markdown",
      "metadata": {
        "id": "zwRvLPvUbEMI"
      },
      "source": [
        "# 📘 Week 5 - 프로세스 발견 (Process Discovery) (PM4Py)\n",
        "- 실습 항목: 프로세스 모델 도출, Quality 측정 등"
      ]
    },
    {
      "cell_type": "code",
      "source": [
        "# ✅ 환경 점검: PM4Py 버전 확인 (필요 시 설치)\n",
        "try:\n",
        "    import pm4py\n",
        "    print(\"pm4py version:\", pm4py.__version__)\n",
        "except Exception as e:\n",
        "    print(\"pm4py가 설치되어 있지 않거나 환경 문제가 있습니다.\")\n",
        "    print(\"Colab/로컬에서 아래 주석을 해제해 설치하세요:\")\n",
        "    print(\"!pip install -U pm4py\")"
      ],
      "metadata": {
        "id": "kgngaM1ubKsU"
      },
      "execution_count": null,
      "outputs": []
    },
    {
      "cell_type": "markdown",
      "metadata": {
        "id": "7lXEaArybEMI"
      },
      "source": [
        "## 환경 설정 (Setup)\n",
        "\n",
        "본 노트북에서는 아래의 라이브러리를 활용한다:\n",
        "\n",
        "* [PM4Py](https://pm4py.fit.fraunhofer.de/)"
      ]
    },
    {
      "cell_type": "markdown",
      "metadata": {
        "id": "o4BMjfehbEMJ"
      },
      "source": [
        "## Process Discovery"
      ]
    },
    {
      "cell_type": "markdown",
      "metadata": {
        "id": "VlmBcdUIbEMJ"
      },
      "source": [
        "### Process Models\n",
        "\n",
        "프로세스 모델의 대표적인 표준 표기법은 [BPMN](https://www.bpmn.org/) 이며, [BPMN.io](https://bpmn.io/)와 같은 웹 기반 도구로 작성할 수 있고, PM4Py에서 로드하여 활용할 수 있다."
      ]
    },
    {
      "cell_type": "code",
      "execution_count": null,
      "metadata": {
        "id": "ZFF-hakQbEMJ"
      },
      "outputs": [],
      "source": [
        "import pm4py\n",
        "\n",
        "bpmn_graph = pm4py.read_bpmn(\"../data/sepsis.bpmn\")"
      ]
    },
    {
      "cell_type": "code",
      "execution_count": null,
      "metadata": {
        "id": "TgELBSDfbEMJ"
      },
      "outputs": [],
      "source": [
        "pm4py.vis.view_bpmn(bpmn_graph)"
      ]
    },
    {
      "cell_type": "markdown",
      "source": [
        "위 예시는 BPMN으로 표기된 패혈증 프로세스 모델의 한 예를 나타낸다."
      ],
      "metadata": {
        "id": "kSnAI5zXfrv6"
      }
    },
    {
      "cell_type": "markdown",
      "metadata": {
        "id": "Mb_QSA_8bEMJ"
      },
      "source": [
        "### Quality Dimensions\n",
        "\n",
        "프로세스 모델의 품질을 평가하는 주요 차원으로는 `fitness`, `precision`, `simplicity`, `generalisation` 이 있다. 본 사례에서는 Wil van der Aalst의 저서 `Process Mining - Data Science in Action`에서 사용된 예시 이벤트 로그(`../data/Lfull.xes`)를 사용한다."
      ]
    },
    {
      "cell_type": "code",
      "execution_count": null,
      "metadata": {
        "id": "KLPKe48wbEMJ"
      },
      "outputs": [],
      "source": [
        "from pm4py.objects.log.importer.xes import importer as xes_importer\n",
        "from pm4py.algo.discovery.inductive import algorithm as im_discovery\n",
        "from pm4py.algo.evaluation.replay_fitness import algorithm as fitness_evaluator\n",
        "from pm4py.algo.evaluation.precision import algorithm as precision_evaluator\n",
        "from pm4py.algo.evaluation.simplicity import algorithm as simplicity_evaluator\n",
        "from pm4py.algo.evaluation.generalization.variants.token_based import apply as generalization_evaluator_apply\n",
        "from pm4py.objects.conversion.process_tree import converter as pt_converter\n",
        "\n",
        "example_log = xes_importer.apply('../data/Lfull.xes')"
      ]
    },
    {
      "cell_type": "markdown",
      "metadata": {
        "id": "Sr2IaKNhbEMJ"
      },
      "source": [
        "본 이벤트 로그 내 Activity 라벨은 아래와 같이 맵핑된다.\n",
        "\n",
        "* a = register request,\n",
        "* b = examine thoroughly,\n",
        "* c = examine casually,\n",
        "* d = check ticket,\n",
        "* e = decide,\n",
        "* f = reinitiate request,\n",
        "* g = pay compensation, and\n",
        "* h = reject request."
      ]
    },
    {
      "cell_type": "code",
      "execution_count": null,
      "metadata": {
        "id": "a7woWcmkbEMJ"
      },
      "outputs": [],
      "source": [
        "pm4py.convert_to_dataframe(example_log)"
      ]
    },
    {
      "cell_type": "markdown",
      "metadata": {
        "id": "vynuD1xqbEMJ"
      },
      "source": [
        "DFG 도구를 통해 프로세스 모델을 도출하면 아래와 같다."
      ]
    },
    {
      "cell_type": "code",
      "execution_count": null,
      "metadata": {
        "id": "wSxhLY_HbEMJ"
      },
      "outputs": [],
      "source": [
        "pm4py.view_dfg(*pm4py.discover_directly_follows_graph(example_log))"
      ]
    },
    {
      "cell_type": "markdown",
      "source": [
        "Inductive Mining을 통해 프로세스 모델을 도출하면 아래와 같다."
      ],
      "metadata": {
        "id": "A2bLl0cTgZJW"
      }
    },
    {
      "cell_type": "code",
      "source": [
        "process_tree = im_discovery.apply(example_log)\n",
        "pm4py.view_process_tree(process_tree)"
      ],
      "metadata": {
        "id": "w3wZyMbleYTP"
      },
      "execution_count": null,
      "outputs": []
    },
    {
      "cell_type": "markdown",
      "source": [
        "Inductive Mining을 통해 도출된 Process Tree를 페트리넷으로 변환하면 아래와 같다."
      ],
      "metadata": {
        "id": "WsPBF5WBgiP_"
      }
    },
    {
      "cell_type": "code",
      "source": [
        "net, initial_marking, final_marking = pt_converter.apply(process_tree)\n",
        "pm4py.view_petri_net(net, initial_marking, final_marking)"
      ],
      "metadata": {
        "id": "6WuE1TwNefQ7"
      },
      "execution_count": null,
      "outputs": []
    },
    {
      "cell_type": "markdown",
      "metadata": {
        "id": "m4LdOSxFbEMJ"
      },
      "source": [
        "도출된 페트리 넷을 바탕으로 4개의 품질 측정 도구를 통해 결과를 도출한다."
      ]
    },
    {
      "cell_type": "code",
      "source": [
        "# Measure Fitness\n",
        "# The 'token_replay' method is used for fitness evaluation\n",
        "fitness = fitness_evaluator.apply(log, net, initial_marking, final_marking)\n",
        "print(f\"Fitness: {fitness['log_fitness']:.4f}\")\n",
        "\n",
        "# Measure Precision\n",
        "# 'log_fitness' is used to evaluate the model\n",
        "precision = precision_evaluator.apply(log, net, initial_marking, final_marking)\n",
        "print(f\"Precision: {precision:.4f}\")\n",
        "\n",
        "# Measure Simplicity\n",
        "simplicity = simplicity_evaluator.apply(net)\n",
        "print(f\"Simplicity: {simplicity:.4f}\")\n",
        "\n",
        "# Measure Generalization\n",
        "generalization = generalization_evaluator_apply(log, net, initial_marking, final_marking)\n",
        "print(f\"Generalization: {generalization:.4f}\")"
      ],
      "metadata": {
        "id": "kEvbZJW1c0c4"
      },
      "execution_count": null,
      "outputs": []
    }
  ],
  "metadata": {
    "kernelspec": {
      "display_name": "Python 3 (ipykernel)",
      "language": "python",
      "name": "python3"
    },
    "language_info": {
      "codemirror_mode": {
        "name": "ipython",
        "version": 3
      },
      "file_extension": ".py",
      "mimetype": "text/x-python",
      "name": "python",
      "nbconvert_exporter": "python",
      "pygments_lexer": "ipython3",
      "version": "3.8.13"
    },
    "vscode": {
      "interpreter": {
        "hash": "28aff1567d8aae5536826c1be921f2ff2e204808293d43dc67bdcb73bd29110e"
      }
    },
    "colab": {
      "provenance": [],
      "include_colab_link": true
    }
  },
  "nbformat": 4,
  "nbformat_minor": 0
}